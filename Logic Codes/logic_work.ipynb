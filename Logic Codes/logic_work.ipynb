{
  "nbformat": 4,
  "nbformat_minor": 0,
  "metadata": {
    "colab": {
      "provenance": []
    },
    "kernelspec": {
      "name": "python3",
      "display_name": "Python 3"
    },
    "language_info": {
      "name": "python"
    }
  },
  "cells": [
    {
      "cell_type": "code",
      "execution_count": 1,
      "metadata": {
        "colab": {
          "base_uri": "https://localhost:8080/"
        },
        "id": "Fhqm-pne-9lq",
        "outputId": "e30a2ab7-e96b-4fbf-916e-5be72efe9e51"
      },
      "outputs": [
        {
          "output_type": "stream",
          "name": "stdout",
          "text": [
            "The statement is correct based on the knowledge base.\n"
          ]
        }
      ],
      "source": [
        "# Made by Rishi Diwaker 211CS243\n",
        "\n",
        "from sympy import *\n",
        "from sympy.logic.boolalg import truth_table\n",
        "\n",
        "def check_statement(statement, knowledge_base):\n",
        "    # Symbols in the statement\n",
        "    sym = [c, d, e]\n",
        "\n",
        "    # Calculate truth table for the statement\n",
        "    tt_statement = truth_table(statement, sym)\n",
        "\n",
        "    # Calculate truth table for the knowledge base\n",
        "    kb_statement = And(*knowledge_base)\n",
        "    tt_kb = truth_table(kb_statement, sym)\n",
        "\n",
        "    # Check if the statement is implied by the knowledge base\n",
        "    for row_kb, row_statement in zip(tt_kb, tt_statement):\n",
        "        if row_kb[-1] and not row_statement[-1]:\n",
        "            return False\n",
        "    return True\n",
        "\n",
        "# Define the symbols\n",
        "c, d, e = symbols('c, d, e')\n",
        "\n",
        "# Define the knowledge base\n",
        "knowledge_base = [\n",
        "    Implies(c, d),\n",
        "    c\n",
        "]\n",
        "\n",
        "# Statement to check\n",
        "\n",
        "statement_to_check = d\n",
        "\n",
        "# Check if the statement is correct based on the knowledge base\n",
        "is_correct = check_statement(statement_to_check, knowledge_base)\n",
        "\n",
        "if is_correct:\n",
        "    print(\"The statement is correct based on the knowledge base.\")\n",
        "else:\n",
        "    print(\"The statement is not correct based on the knowledge base.\")\n"
      ]
    },
    {
      "cell_type": "code",
      "source": [],
      "metadata": {
        "id": "O16YwX8Jnbym"
      },
      "execution_count": null,
      "outputs": []
    }
  ]
}